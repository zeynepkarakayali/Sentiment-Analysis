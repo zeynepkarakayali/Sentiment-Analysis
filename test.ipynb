{
 "cells": [
  {
   "cell_type": "code",
   "execution_count": 3,
   "id": "6ae348c6",
   "metadata": {},
   "outputs": [],
   "source": [
    "import numpy as np\n",
    "import cv2\n",
    "import tensorflow as tf\n",
    "import pandas as pd"
   ]
  },
  {
   "cell_type": "code",
   "execution_count": 4,
   "id": "4f5303e2",
   "metadata": {
    "scrolled": false
   },
   "outputs": [
    {
     "name": "stderr",
     "output_type": "stream",
     "text": [
      "[ERROR:0@54.914] global /private/var/folders/nz/j6p8yfhx1mv_0grj5xl4650h0000gp/T/abs_d9lyif19nl/croot/opencv-suite_1676472756314/work/modules/core/src/persistence.cpp (505) open Can't open file: '/Users/zeynep/Desktop/ML/facial-expression-recognition-master/haar_cascade_face_detection.xml' in read mode\n",
      "\n",
      "(<unknown>:4495): GStreamer-CRITICAL **: 21:47:32.429: gst_element_make_from_uri: assertion 'gst_uri_is_valid (uri)' failed\n",
      "[ WARN:0@54.914] global /private/var/folders/nz/j6p8yfhx1mv_0grj5xl4650h0000gp/T/abs_d9lyif19nl/croot/opencv-suite_1676472756314/work/modules/videoio/src/cap_gstreamer.cpp (1127) open OpenCV | GStreamer warning: Error opening bin: no source element for URI \"/Users/zeynep/Desktop/powerIsPower.mp4\"\n",
      "[ WARN:0@54.914] global /private/var/folders/nz/j6p8yfhx1mv_0grj5xl4650h0000gp/T/abs_d9lyif19nl/croot/opencv-suite_1676472756314/work/modules/videoio/src/cap_gstreamer.cpp (862) isPipelinePlaying OpenCV | GStreamer warning: GStreamer: pipeline have not been created\n",
      "OpenCV: Couldn't read video stream from file \"/Users/zeynep/Desktop/powerIsPower.mp4\"\n"
     ]
    },
    {
     "ename": "IndexError",
     "evalue": "too many indices for array: array is 1-dimensional, but 2 were indexed",
     "output_type": "error",
     "traceback": [
      "\u001b[0;31m---------------------------------------------------------------------------\u001b[0m",
      "\u001b[0;31mIndexError\u001b[0m                                Traceback (most recent call last)",
      "Cell \u001b[0;32mIn[4], line 58\u001b[0m\n\u001b[1;32m     53\u001b[0m output_array \u001b[39m=\u001b[39m np\u001b[39m.\u001b[39marray(output_data)\n\u001b[1;32m     54\u001b[0m \u001b[39m#print(output_array)\u001b[39;00m\n\u001b[1;32m     55\u001b[0m \n\u001b[1;32m     56\u001b[0m \u001b[39m# Create a dictionary to hold the data\u001b[39;00m\n\u001b[1;32m     57\u001b[0m data \u001b[39m=\u001b[39m {\u001b[39m'\u001b[39m\u001b[39m#Frame\u001b[39m\u001b[39m'\u001b[39m: np\u001b[39m.\u001b[39marange(\u001b[39m1\u001b[39m, \u001b[39mlen\u001b[39m(output_array) \u001b[39m+\u001b[39m \u001b[39m1\u001b[39m),\n\u001b[0;32m---> 58\u001b[0m         \u001b[39m'\u001b[39m\u001b[39mSentiment Label\u001b[39m\u001b[39m'\u001b[39m: output_array[:, \u001b[39m0\u001b[39;49m],\n\u001b[1;32m     59\u001b[0m         \u001b[39m'\u001b[39m\u001b[39mSentiment Score\u001b[39m\u001b[39m'\u001b[39m: output_array[:, \u001b[39m1\u001b[39m]\n\u001b[1;32m     60\u001b[0m }\n\u001b[1;32m     62\u001b[0m \u001b[39m# Convert the dictionary to a Pandas DataFrame\u001b[39;00m\n\u001b[1;32m     63\u001b[0m df \u001b[39m=\u001b[39m pd\u001b[39m.\u001b[39mDataFrame(data)\n",
      "\u001b[0;31mIndexError\u001b[0m: too many indices for array: array is 1-dimensional, but 2 were indexed"
     ]
    }
   ],
   "source": [
    "face_detection = cv2.CascadeClassifier('/Users/zeynep/Desktop/ML/facial-expression-recognition-master/haar_cascade_face_detection.xml')\n",
    "\n",
    "camera = cv2.VideoCapture(\"/Users/zeynep/Desktop/powerIsPower.mp4\")\n",
    "#camera = cv2.VideoCapture(\"/Users/zeynep/Desktop/ML/facial-expression-recognition-master/imageProcessing_videos/deprem1.mp4\")\n",
    "camera.set(cv2.CAP_PROP_FRAME_WIDTH, 1024)\n",
    "camera.set(cv2.CAP_PROP_FRAME_HEIGHT, 768)\n",
    "settings = {\n",
    "    'scaleFactor': 1.3,\n",
    "    'minNeighbors': 5,\n",
    "    'minSize': (50, 50)\n",
    "}\n",
    "\n",
    "labels = ['Surprise', 'Neutral', 'Anger', 'Happy', 'Sad']\n",
    "\n",
    "model = tf.keras.models.load_model('network-5Labels.h5')\n",
    "\n",
    "output_data = []\n",
    "\n",
    "frame=0\n",
    "\n",
    "while True:\n",
    "    ret, img = camera.read()\n",
    "\n",
    "    if not ret:\n",
    "        break\n",
    "\n",
    "    gray = cv2.cvtColor(img, cv2.COLOR_BGR2GRAY)\n",
    "    detected = face_detection.detectMultiScale(gray, **settings)\n",
    "\n",
    "    for x, y, w, h in detected:\n",
    "        cv2.rectangle(img, (x, y), (x + w, y + h), (245, 135, 66), 2)\n",
    "        cv2.rectangle(img, (x, y), (x + w // 3, y + 20), (245, 135, 66), -1)\n",
    "        face = gray[y + 5:y + h - 5, x + 20:x + w - 20]\n",
    "        face = cv2.resize(face, (48, 48))\n",
    "        face = face / 255.0\n",
    "        sentiment_score = model.predict(np.array([face.reshape((48, 48, 1))]))\n",
    "        sentiment_label = labels[sentiment_score.argmax()]\n",
    "        sentiment_score = sentiment_score[0][sentiment_score.argmax()]\n",
    "        output_data.append((sentiment_label, sentiment_score))\n",
    "        state = sentiment_label\n",
    "        font = cv2.FONT_HERSHEY_SIMPLEX\n",
    "        cv2.putText(img, state, (x + 10, y + 15), font, 0.5, (255, 255, 255), 2, cv2.LINE_AA)\n",
    "        frame = frame+1\n",
    "\n",
    "    cv2.imshow('Facial Expression', img)\n",
    "\n",
    "    if cv2.waitKey(5) & 0xFF == ord('q'):\n",
    "        break\n",
    "\n",
    "camera.release()\n",
    "cv2.destroyAllWindows()\n",
    "\n",
    "output_array = np.array(output_data)\n",
    "#print(output_array)\n",
    "\n",
    "# Create a dictionary to hold the data\n",
    "data = {'#Frame': np.arange(1, len(output_array) + 1),\n",
    "        'Sentiment Label': output_array[:, 0],\n",
    "        'Sentiment Score': output_array[:, 1]\n",
    "}\n",
    "\n",
    "# Convert the dictionary to a Pandas DataFrame\n",
    "df = pd.DataFrame(data)\n",
    "\n",
    "df.to_csv('output.csv', index=False)\n",
    "print(df)"
   ]
  },
  {
   "attachments": {},
   "cell_type": "markdown",
   "id": "0115c652",
   "metadata": {},
   "source": []
  },
  {
   "cell_type": "code",
   "execution_count": null,
   "id": "27ffb88b",
   "metadata": {},
   "outputs": [],
   "source": []
  }
 ],
 "metadata": {
  "kernelspec": {
   "display_name": "Python 3 (ipykernel)",
   "language": "python",
   "name": "python3"
  },
  "language_info": {
   "codemirror_mode": {
    "name": "ipython",
    "version": 3
   },
   "file_extension": ".py",
   "mimetype": "text/x-python",
   "name": "python",
   "nbconvert_exporter": "python",
   "pygments_lexer": "ipython3",
   "version": "3.10.9"
  }
 },
 "nbformat": 4,
 "nbformat_minor": 5
}
